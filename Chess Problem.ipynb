{
 "cells": [
  {
   "cell_type": "markdown",
   "metadata": {},
   "source": [
    "# Chess Problem\n",
    "\n",
    "This is a Python answer to a problem based on chess, stated as follows.\n",
    "\n",
    "Starting with a standard chess board measuring 8 by 8 squares, and numbered as below:\n",
    "<table>\n",
    "<tr>\t\t\t\t\t\t\t\t\t\t\t\t\t\t\t\t\t\t\t\t\t\t\t\n",
    "<td>\t0\t</td>\t<td>\t1\t</td>\t<td>\t2\t</td>\t<td>\t3\t</td>\t<td>\t4\t</td>\t<td>\t5\t</td>\t<td>\t6\t</td>\t<td>\t7\t</td>\n",
    "</tr>\t\t\t\t\t\t\t\t\t\t\t\t\t\t\t\t\t\t\t\t\t\t\t\n",
    "<tr>\t\t\t\t\t\t\t\t\t\t\t\t\t\t\t\t\t\t\t\t\t\t\t\n",
    "<td>\t8\t</td>\t<td>\t9\t</td>\t<td>\t10\t</td>\t<td>\t11\t</td>\t<td>\t12\t</td>\t<td>\t13\t</td>\t<td>\t14\t</td>\t<td>\t15\t</td>\n",
    "</tr>\t\t\t\t\t\t\t\t\t\t\t\t\t\t\t\t\t\t\t\t\t\t\t\n",
    "<tr>\t\t\t\t\t\t\t\t\t\t\t\t\t\t\t\t\t\t\t\t\t\t\t\n",
    "<td>\t16\t</td>\t<td>\t17\t</td>\t<td>\t18\t</td>\t<td>\t19\t</td>\t<td>\t20\t</td>\t<td>\t21\t</td>\t<td>\t22\t</td>\t<td>\t23\t</td>\n",
    "</tr>\t\t\t\t\t\t\t\t\t\t\t\t\t\t\t\t\t\t\t\t\t\t\t\n",
    "<tr>\t\t\t\t\t\t\t\t\t\t\t\t\t\t\t\t\t\t\t\t\t\t\t\n",
    "<td>\t24\t</td>\t<td>\t25\t</td>\t<td>\t26\t</td>\t<td>\t27\t</td>\t<td>\t28\t</td>\t<td>\t29\t</td>\t<td>\t30\t</td>\t<td>\t31\t</td>\n",
    "</tr>\t\t\t\t\t\t\t\t\t\t\t\t\t\t\t\t\t\t\t\t\t\t\t\n",
    "<tr>\t\t\t\t\t\t\t\t\t\t\t\t\t\t\t\t\t\t\t\t\t\t\t\n",
    "<td>\t32\t</td>\t<td>\t33\t</td>\t<td>\t34\t</td>\t<td>\t35\t</td>\t<td>\t36\t</td>\t<td>\t37\t</td>\t<td>\t38\t</td>\t<td>\t39\t</td>\n",
    "</tr>\t\t\t\t\t\t\t\t\t\t\t\t\t\t\t\t\t\t\t\t\t\t\t\n",
    "<tr>\t\t\t\t\t\t\t\t\t\t\t\t\t\t\t\t\t\t\t\t\t\t\t\n",
    "<td>\t40\t</td>\t<td>\t41\t</td>\t<td>\t42\t</td>\t<td>\t43\t</td>\t<td>\t44\t</td>\t<td>\t45\t</td>\t<td>\t46\t</td>\t<td>\t47\t</td>\n",
    "</tr>\t\t\t\t\t\t\t\t\t\t\t\t\t\t\t\t\t\t\t\t\t\t\t\n",
    "<tr>\t\t\t\t\t\t\t\t\t\t\t\t\t\t\t\t\t\t\t\t\t\t\t\n",
    "<td>\t48\t</td>\t<td>\t49\t</td>\t<td>\t50\t</td>\t<td>\t51\t</td>\t<td>\t52\t</td>\t<td>\t53\t</td>\t<td>\t54\t</td>\t<td>\t55\t</td>\n",
    "</tr>\t\t\t\t\t\t\t\t\t\t\t\t\t\t\t\t\t\t\t\t\t\t\t\n",
    "<tr>\t\t\t\t\t\t\t\t\t\t\t\t\t\t\t\t\t\t\t\t\t\t\t\n",
    "<td>\t56\t</td>\t<td>\t57\t</td>\t<td>\t58\t</td>\t<td>\t59\t</td>\t<td>\t60\t</td>\t<td>\t61\t</td>\t<td>\t62\t</td>\t<td>\t63\t</td>\n",
    "</tr>\t\t\t\t\t\t\t\t\t\t\t\t\t\t\t\t\t\t\t\t\t\t\t\t\t\t\t\t\t\t\t\t\t\t\t\t\t\t\t\t\t\t\t\t\t\t\t\t\t\t\t\t\t\t\t\t\t\t\t\t\t\t\t\n",
    "</table>\n",
    "\n",
    "Given any 2 positions on the board <i>source</i> and <i>destination</i>, calculate the shortest number of moves that the knight would take to move between the 2 squares.\n",
    "\n",
    "#### For example\n",
    "\n",
    "```python\n",
    "answer(src = 9, dest = 26)\n",
    "```\n",
    "returns\n",
    "\n",
    "<code>1</code>\n",
    "\n",
    "\n",
    "```python\n",
    "answer(src = 0, dest = 0)\n",
    "```\n",
    "returns\n",
    "\n",
    "<code>0</code>\n",
    "\n",
    "\n",
    "```python\n",
    "answer(src = 19, dest = 42)\n",
    "```\n",
    "returns\n",
    "\n",
    "<code>2</code>"
   ]
  },
  {
   "cell_type": "code",
   "execution_count": 1,
   "metadata": {},
   "outputs": [],
   "source": [
    "def answer(src,dest):\n",
    "    \n",
    "    # Create the matrix\n",
    "    matrix = [[0 for i in range(8)] for j in range(8)]\n",
    "    total = range(64)\n",
    "    for row in range(8):\n",
    "        matrix[row] = total[row*8:(row*8+8)]\n",
    "\n",
    "    # Function to get position coordinates of a given point in matrix\n",
    "    def pos_index(pos):\n",
    "        return [(i, row.index(pos)) for i, row in enumerate(matrix) if pos in row]  \n",
    "    \n",
    "    # Differences from start point for all theoretical moves\n",
    "    move_diffs = [-17, -15, -10, -6, 6, 10, 15, 17]\n",
    "\n",
    "    # All theoretical moves from given start point\n",
    "    def theoretical_moves(start_pos):\n",
    "        return [i for i in sorted([start_pos - i for i in move_diffs]) if i>=0 and i<=63]\n",
    "\n",
    "    # Absolute distances from starting position\n",
    "    def absolute_distances(start_pos):\n",
    "        theo_moves = theoretical_moves(start_pos)\n",
    "        return [((pos_index(start_pos)[0][0] - pos_index(index)[0][0]),\n",
    "                 (pos_index(start_pos)[0][1] - pos_index(index)[0][1]))\n",
    "                for index in theo_moves]\n",
    "\n",
    "    # Distance sums from start pos\n",
    "    def distance_sums(start_pos):\n",
    "        abs_distances = absolute_distances(start_pos)\n",
    "        return [sum(abs_distances[i]) for i in range(len(abs_distances))]\n",
    "\n",
    "    # Actual moves available for given start point\n",
    "    def actual_moves(start_pos):\n",
    "        actual_moves = []\n",
    "        dist_sums = distance_sums(start_pos)\n",
    "        theo_moves = theoretical_moves(start_pos)\n",
    "        for i in range(len(dist_sums)):\n",
    "            if (dist_sums[i]<=3 and dist_sums[i]>=-3):\n",
    "                actual_moves.append(theo_moves[i])\n",
    "        return actual_moves\n",
    "\n",
    "    # Shortest number of moves until dest reached - all paths considered in each 'generation' of moves until dest found\n",
    "    result, found = 1, False\n",
    "    this_gen_input = actual_moves(src)\n",
    "    while found == False:\n",
    "        next_gen_input = []\n",
    "        if dest in this_gen_input:\n",
    "            return result\n",
    "            found = True\n",
    "        else:\n",
    "            for i in this_gen_input:\n",
    "                for pos in actual_moves(i):\n",
    "                    next_gen_input.append(pos)\n",
    "            result +=1\n",
    "            this_gen_input = next_gen_input"
   ]
  },
  {
   "cell_type": "code",
   "execution_count": 2,
   "metadata": {},
   "outputs": [
    {
     "data": {
      "text/plain": [
       "3"
      ]
     },
     "execution_count": 2,
     "metadata": {},
     "output_type": "execute_result"
    }
   ],
   "source": [
    "src = 55\n",
    "dest = 4\n",
    "answer(src,dest)"
   ]
  },
  {
   "cell_type": "markdown",
   "metadata": {},
   "source": [
    "Test cases\n",
    "\n",
    "Inputs:\n",
    "    (int) src = 19\n",
    "    (int) dest = 36\n",
    "Output:\n",
    "    (int) 1\n",
    "\n",
    "Inputs:\n",
    "    (int) src = 0\n",
    "    (int) dest = 1\n",
    "Output:\n",
    "    (int) 3"
   ]
  },
  {
   "cell_type": "code",
   "execution_count": 3,
   "metadata": {},
   "outputs": [
    {
     "name": "stdout",
     "output_type": "stream",
     "text": [
      "Test case 1: passed!\n",
      "Test case 2: passed!\n"
     ]
    }
   ],
   "source": [
    "test_case_1 = ['Test case 1:', 19, 36, 1]\n",
    "test_case_2 = ['Test case 2:', 0, 1, 3]\n",
    "for test in (test_case_1, test_case_2):\n",
    "    if answer(test[1], test[2]) == test[3]:\n",
    "        print(test[0], 'passed!')\n",
    "    else:\n",
    "        print(test[0], 'FAIL!')"
   ]
  },
  {
   "cell_type": "markdown",
   "metadata": {},
   "source": [
    "### Analysis of distribution of number of moves from all possible combinations of src-dest points"
   ]
  },
  {
   "cell_type": "code",
   "execution_count": 4,
   "metadata": {},
   "outputs": [],
   "source": [
    "srcs = range(64)\n",
    "dests = range(64)"
   ]
  },
  {
   "cell_type": "code",
   "execution_count": 5,
   "metadata": {},
   "outputs": [
    {
     "name": "stdout",
     "output_type": "stream",
     "text": [
      "Total number unique 'src'-'dest' combinations = 2016\n",
      "(Not including starting and ending on same point, or reverses of 'src'-'dest' combination.)\n"
     ]
    }
   ],
   "source": [
    "combos = []\n",
    "for i in srcs:\n",
    "    for j in dests:\n",
    "        if j>i:\n",
    "            combos.append((i,j))\n",
    "print('Total number unique \\'src\\'-\\'dest\\' combinations =', len(combos))\n",
    "print('(Not including starting and ending on same point, or reverses of \\'src\\'-\\'dest\\' combination.)')"
   ]
  },
  {
   "cell_type": "code",
   "execution_count": 6,
   "metadata": {},
   "outputs": [],
   "source": [
    "distances = []\n",
    "for i in range(len(combos)):\n",
    "    distance = answer(combos[i][0],combos[i][1])\n",
    "    distances.append(distance)"
   ]
  },
  {
   "cell_type": "code",
   "execution_count": 7,
   "metadata": {},
   "outputs": [],
   "source": [
    "# Generate data\n",
    "number_moves = range(1,len(distances)+1,1)\n",
    "distance_counts = [distances.count(move) for move in number_moves]"
   ]
  },
  {
   "cell_type": "code",
   "execution_count": 8,
   "metadata": {},
   "outputs": [
    {
     "data": {
      "image/png": "[encoded data removed]",
      "text/plain": [
       "<Figure size 1152x720 with 1 Axes>"
      ]
     },
     "metadata": {
      "needs_background": "light"
     },
     "output_type": "display_data"
    }
   ],
   "source": [
    "# Generate chart\n",
    "import matplotlib.pyplot as plt\n",
    "%matplotlib inline\n",
    "plt.figure(figsize = (16,10))\n",
    "plt.bar(number_moves, distance_counts, align = 'center')\n",
    "plt.title('Distribution of number of moves from \\'src\\' to \\'dest\\'')\n",
    "plt.ylabel('Number of Combinations')\n",
    "plt.xlabel('Number of moves between \\'src\\' and \\'dest\\'')\n",
    "plt.axis([0.5, 6.5, 0, 800])\n",
    "plt.show()"
   ]
  },
  {
   "cell_type": "code",
   "execution_count": null,
   "metadata": {},
   "outputs": [],
   "source": []
  }
 ],
 "metadata": {
  "kernelspec": {
   "display_name": "Python 3",
   "language": "python",
   "name": "python3"
  },
  "language_info": {
   "codemirror_mode": {
    "name": "ipython",
    "version": 3
   },
   "file_extension": ".py",
   "mimetype": "text/x-python",
   "name": "python",
   "nbconvert_exporter": "python",
   "pygments_lexer": "ipython3",
   "version": "3.7.3"
  }
 },
 "nbformat": 4,
 "nbformat_minor": 4
}
