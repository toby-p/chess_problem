{
 "cells": [
  {
   "cell_type": "code",
   "execution_count": 260,
   "metadata": {
    "collapsed": false
   },
   "outputs": [
    {
     "data": {
      "text/plain": [
       "[25, 27, 25, 36, 27, 52, 36, 52]"
      ]
     },
     "execution_count": 260,
     "metadata": {},
     "output_type": "execute_result"
    }
   ],
   "source": [
    "get_possible_moves(42)"
   ]
  },
  {
   "cell_type": "markdown",
   "metadata": {},
   "source": [
    "Test cases\n",
    "\n",
    "Inputs:\n",
    "    (int) src = 19\n",
    "    (int) dest = 36\n",
    "Output:\n",
    "    (int) 1\n",
    "\n",
    "Inputs:\n",
    "    (int) src = 0\n",
    "    (int) dest = 1\n",
    "Output:\n",
    "    (int) 3"
   ]
  },
  {
   "cell_type": "code",
   "execution_count": 58,
   "metadata": {
    "collapsed": false
   },
   "outputs": [
    {
     "data": {
      "text/plain": [
       "[[0, 1, 2, 3, 4, 5, 6, 7],\n",
       " [8, 9, 10, 11, 12, 13, 14, 15],\n",
       " [16, 17, 18, 19, 20, 21, 22, 23],\n",
       " [24, 25, 26, 27, 28, 29, 30, 31],\n",
       " [32, 33, 34, 35, 36, 37, 38, 39],\n",
       " [40, 41, 42, 43, 44, 45, 46, 47],\n",
       " [48, 49, 50, 51, 52, 53, 54, 55],\n",
       " [56, 57, 58, 59, 60, 61, 62, 63]]"
      ]
     },
     "execution_count": 58,
     "metadata": {},
     "output_type": "execute_result"
    }
   ],
   "source": [
    "# Start by creating empty matrix\n",
    "matrix = [[0 for i in range(8)] for j in range(8)]\n",
    "\n",
    "# Populate with integers from 0 to 63\n",
    "total = range(64)\n",
    "for row in range(8):\n",
    "    matrix[row] = total[row*8:(row*8+8)]\n",
    "matrix"
   ]
  },
  {
   "cell_type": "code",
   "execution_count": 62,
   "metadata": {
    "collapsed": false
   },
   "outputs": [],
   "source": [
    "list_of_moves_35 = [20,29,45,52,50,41,25,18]\n",
    "list_of_moves_35.sort()\n",
    "differences_35 = [35-i for i in list_of_moves_35]\n",
    "differences_35.sort()"
   ]
  },
  {
   "cell_type": "code",
   "execution_count": 61,
   "metadata": {
    "collapsed": false
   },
   "outputs": [
    {
     "data": {
      "text/plain": [
       "[18, 20, 25, 29, 41, 45, 50, 52]"
      ]
     },
     "execution_count": 61,
     "metadata": {},
     "output_type": "execute_result"
    }
   ],
   "source": [
    "list_of_moves_35"
   ]
  },
  {
   "cell_type": "code",
   "execution_count": 65,
   "metadata": {
    "collapsed": false
   },
   "outputs": [
    {
     "data": {
      "text/plain": [
       "[-17, -15, -10, -6, 6, 10, 15, 17]"
      ]
     },
     "execution_count": 65,
     "metadata": {},
     "output_type": "execute_result"
    }
   ],
   "source": [
    "differences_35"
   ]
  },
  {
   "cell_type": "code",
   "execution_count": 328,
   "metadata": {
    "collapsed": false
   },
   "outputs": [],
   "source": [
    "# Get the index position of any point in the matrix\n",
    "def pos_index(pos):\n",
    "    return [(i, row.index(pos)) for i, row in enumerate(matrix) if pos in row]\n",
    "\n",
    "# Differences from start point for all theoretical moves\n",
    "move_diffs = [-17, -15, -10, -6, 6, 10, 15, 17]\n",
    "\n",
    "# All theoretical moves\n",
    "def theoretical_moves(start_pos):\n",
    "    return [i for i in sorted([start_pos - i for i in move_diffs]) if i>=0 and i<=63]\n",
    "\n",
    "# Absolute distances from starting position\n",
    "def absolute_distances(start_pos):\n",
    "    theo_moves = theoretical_moves(start_pos)\n",
    "    return [((pos_index(start_pos)[0][0] - pos_index(index)[0][0]),\n",
    "             (pos_index(start_pos)[0][1] - pos_index(index)[0][1]))\n",
    "            for index in theo_moves]\n",
    "\n",
    "# Distance sums from start pos\n",
    "def distance_sums(start_pos):\n",
    "    abs_distances = absolute_distances(start_pos)\n",
    "    distance_sums = [sum(abs_distances[i]) for i in range(len(abs_distances))]\n",
    "    return distance_sums\n",
    "\n",
    "def actual_moves(start_pos):\n",
    "    actual_moves = []\n",
    "    dist_sums = distance_sums(start_pos)\n",
    "    theo_moves = theoretical_moves(start_pos)\n",
    "    for i in range(len(dist_sums)):\n",
    "        if (dist_sums[i]<=3 and dist_sums[i]>=-3):\n",
    "            actual_moves.append(theo_moves[i])\n",
    "    return actual_moves"
   ]
  },
  {
   "cell_type": "code",
   "execution_count": 330,
   "metadata": {
    "collapsed": false
   },
   "outputs": [
    {
     "data": {
      "text/plain": [
       "[[0, 1, 2, 3, 4, 5, 6, 7],\n",
       " [8, 9, 10, 11, 12, 13, 14, 15],\n",
       " [16, 17, 18, 19, 20, 21, 22, 23],\n",
       " [24, 25, 26, 27, 28, 29, 30, 31],\n",
       " [32, 33, 34, 35, 36, 37, 38, 39],\n",
       " [40, 41, 42, 43, 44, 45, 46, 47],\n",
       " [48, 49, 50, 51, 52, 53, 54, 55],\n",
       " [56, 57, 58, 59, 60, 61, 62, 63]]"
      ]
     },
     "execution_count": 330,
     "metadata": {},
     "output_type": "execute_result"
    }
   ],
   "source": [
    "matrix"
   ]
  },
  {
   "cell_type": "code",
   "execution_count": 336,
   "metadata": {
    "collapsed": false
   },
   "outputs": [
    {
     "data": {
      "text/plain": [
       "[1, 6, 10, 22, 26, 31, 33]"
      ]
     },
     "execution_count": 336,
     "metadata": {},
     "output_type": "execute_result"
    }
   ],
   "source": [
    "theoretical_moves(16)"
   ]
  },
  {
   "cell_type": "code",
   "execution_count": 337,
   "metadata": {
    "collapsed": false
   },
   "outputs": [
    {
     "data": {
      "text/plain": [
       "[(2, -1), (2, -6), (1, -2), (0, -6), (-1, -2), (-1, -7), (-2, -1)]"
      ]
     },
     "execution_count": 337,
     "metadata": {},
     "output_type": "execute_result"
    }
   ],
   "source": [
    "absolute_distances(16)"
   ]
  },
  {
   "cell_type": "code",
   "execution_count": 338,
   "metadata": {
    "collapsed": false
   },
   "outputs": [
    {
     "data": {
      "text/plain": [
       "[1, -4, -1, -6, -3, -8, -3]"
      ]
     },
     "execution_count": 338,
     "metadata": {},
     "output_type": "execute_result"
    }
   ],
   "source": [
    "distance_sums(16)"
   ]
  },
  {
   "cell_type": "code",
   "execution_count": 341,
   "metadata": {
    "collapsed": false
   },
   "outputs": [
    {
     "data": {
      "text/plain": [
       "[1, 10, 26, 33]"
      ]
     },
     "execution_count": 341,
     "metadata": {},
     "output_type": "execute_result"
    }
   ],
   "source": [
    "actual_moves(16)"
   ]
  },
  {
   "cell_type": "code",
   "execution_count": 387,
   "metadata": {
    "collapsed": false
   },
   "outputs": [],
   "source": [
    "def answer(src,dest):\n",
    "    result, found = 1, False\n",
    "    this_gen_input = actual_moves(src)\n",
    "    while found == False:\n",
    "        next_gen_input = []\n",
    "        if dest in this_gen_input:\n",
    "            return result\n",
    "            found = True\n",
    "        else:\n",
    "            for i in this_gen_input:\n",
    "                for pos in actual_moves(i):\n",
    "                    next_gen_input.append(pos)\n",
    "            result +=1\n",
    "            this_gen_input = next_gen_input"
   ]
  },
  {
   "cell_type": "code",
   "execution_count": 401,
   "metadata": {
    "collapsed": false
   },
   "outputs": [
    {
     "data": {
      "text/plain": [
       "6"
      ]
     },
     "execution_count": 401,
     "metadata": {},
     "output_type": "execute_result"
    }
   ],
   "source": [
    "src = 63\n",
    "dest = 0\n",
    "answer(src,dest)"
   ]
  },
  {
   "cell_type": "code",
   "execution_count": 402,
   "metadata": {
    "collapsed": false
   },
   "outputs": [
    {
     "data": {
      "text/plain": [
       "[[0, 1, 2, 3, 4, 5, 6, 7],\n",
       " [8, 9, 10, 11, 12, 13, 14, 15],\n",
       " [16, 17, 18, 19, 20, 21, 22, 23],\n",
       " [24, 25, 26, 27, 28, 29, 30, 31],\n",
       " [32, 33, 34, 35, 36, 37, 38, 39],\n",
       " [40, 41, 42, 43, 44, 45, 46, 47],\n",
       " [48, 49, 50, 51, 52, 53, 54, 55],\n",
       " [56, 57, 58, 59, 60, 61, 62, 63]]"
      ]
     },
     "execution_count": 402,
     "metadata": {},
     "output_type": "execute_result"
    }
   ],
   "source": [
    "matrix"
   ]
  },
  {
   "cell_type": "code",
   "execution_count": null,
   "metadata": {
    "collapsed": true
   },
   "outputs": [],
   "source": []
  }
 ],
 "metadata": {
  "kernelspec": {
   "display_name": "Python 2",
   "language": "python",
   "name": "python2"
  },
  "language_info": {
   "codemirror_mode": {
    "name": "ipython",
    "version": 2
   },
   "file_extension": ".py",
   "mimetype": "text/x-python",
   "name": "python",
   "nbconvert_exporter": "python",
   "pygments_lexer": "ipython2",
   "version": "2.7.11"
  }
 },
 "nbformat": 4,
 "nbformat_minor": 0
}
